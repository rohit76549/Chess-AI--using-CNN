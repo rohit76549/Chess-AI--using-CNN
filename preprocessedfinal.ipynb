{
 "cells": [
  {
   "cell_type": "code",
   "execution_count": null,
   "id": "f24a8527",
   "metadata": {},
   "outputs": [],
   "source": [
    "import chess\n",
    "import chess.engine"
   ]
  },
  {
   "cell_type": "code",
   "execution_count": null,
   "id": "dbf56208",
   "metadata": {},
   "outputs": [],
   "source": [
    "import numpy\n",
    "import matplotlib.pyplot as plt"
   ]
  },
  {
   "cell_type": "code",
   "execution_count": null,
   "id": "bd18c8c4",
   "metadata": {},
   "outputs": [],
   "source": [
    "import pandas as  pd"
   ]
  },
  {
   "cell_type": "markdown",
   "id": "bfb9100e",
   "metadata": {},
   "source": [
    "# Future prospect"
   ]
  },
  {
   "cell_type": "code",
   "execution_count": null,
   "id": "aba5c326",
   "metadata": {},
   "outputs": [],
   "source": [
    "df = pd.read_csv('chessData.csv')"
   ]
  },
  {
   "cell_type": "code",
   "execution_count": null,
   "id": "536cb541",
   "metadata": {},
   "outputs": [],
   "source": [
    "df.head()"
   ]
  },
  {
   "cell_type": "code",
   "execution_count": null,
   "id": "1fbb23ea",
   "metadata": {},
   "outputs": [],
   "source": []
  },
  {
   "cell_type": "code",
   "execution_count": null,
   "id": "e7fc863a",
   "metadata": {
    "scrolled": true
   },
   "outputs": [],
   "source": [
    "df2=df[\"FEN\"]\n",
    "df2"
   ]
  },
  {
   "cell_type": "code",
   "execution_count": null,
   "id": "9be0d2c2",
   "metadata": {},
   "outputs": [],
   "source": [
    "df3=df[\"Evaluation\"]\n",
    "df3"
   ]
  },
  {
   "cell_type": "code",
   "execution_count": null,
   "id": "0ef45d57",
   "metadata": {},
   "outputs": [],
   "source": [
    "df"
   ]
  },
  {
   "cell_type": "code",
   "execution_count": null,
   "id": "8929eb00",
   "metadata": {},
   "outputs": [],
   "source": [
    "df4"
   ]
  },
  {
   "cell_type": "code",
   "execution_count": null,
   "id": "49cfd2df",
   "metadata": {
    "scrolled": true
   },
   "outputs": [],
   "source": [
    "for row in df2:\n",
    "    board3d = split_dims(board=chess.Board(row))\n",
    "    "
   ]
  },
  {
   "cell_type": "markdown",
   "id": "1a236a16",
   "metadata": {},
   "source": [
    "## Converts board into a 3d matrix"
   ]
  },
  {
   "cell_type": "code",
   "execution_count": null,
   "id": "0db44216",
   "metadata": {},
   "outputs": [],
   "source": [
    "squares_index = {\n",
    "  'a': 0,\n",
    "  'b': 1,\n",
    "  'c': 2,\n",
    "  'd': 3,\n",
    "  'e': 4,\n",
    "  'f': 5,\n",
    "  'g': 6,\n",
    "  'h': 7\n",
    "}\n",
    "\n",
    "def square_to_index(square):\n",
    "    letter = chess.square_name(square)\n",
    "    return 8 - int(letter[1]), squares_index[letter[0]]\n",
    "\n",
    "def split_dims(board):\n",
    "  # this is the 3d matrix\n",
    "    board3d = numpy.zeros((14, 8, 8), dtype=numpy.int8)\n",
    "\n",
    "  # here we add the pieces's view on the matrix\n",
    "    for piece in chess.PIECE_TYPES:\n",
    "        for square in board.pieces(piece, chess.WHITE):\n",
    "            idx = numpy.unravel_index(square, (8, 8))\n",
    "            board3d[piece - 1][7 - idx[0]][idx[1]] = 1\n",
    "        for square in board.pieces(piece, chess.BLACK):\n",
    "            idx = numpy.unravel_index(square, (8, 8))\n",
    "            board3d[piece + 5][7 - idx[0]][idx[1]] = 1\n",
    "\n",
    "  # add attacks and valid moves too\n",
    "  # so the network knows what is being attacked\n",
    "    aux = board.turn\n",
    "    board.turn = chess.WHITE\n",
    "    for move in board.legal_moves:\n",
    "        i, j = square_to_index(move.to_square)\n",
    "        board3d[12][i][j] = 1\n",
    "    board.turn = chess.BLACK\n",
    "    for move in board.legal_moves:\n",
    "        i, j = square_to_index(move.to_square)\n",
    "        board3d[13][i][j] = 1\n",
    "    board.turn = aux\n",
    "\n",
    "    return board3d"
   ]
  },
  {
   "cell_type": "markdown",
   "id": "bde052b9",
   "metadata": {},
   "source": [
    "## Visualization of 3d matrix"
   ]
  },
  {
   "cell_type": "code",
   "execution_count": null,
   "id": "1d62976f",
   "metadata": {},
   "outputs": [],
   "source": [
    "board=chess.Board('2K5/q7/P7/2k5/8/8/8/8 w - - 4 57')\n",
    "board"
   ]
  },
  {
   "cell_type": "code",
   "execution_count": null,
   "id": "315c686f",
   "metadata": {},
   "outputs": [],
   "source": [
    "board3d = split_dims(board)\n",
    "board3d"
   ]
  },
  {
   "cell_type": "markdown",
   "id": "df1fe5b1",
   "metadata": {},
   "source": [
    "## Reading pgn file"
   ]
  },
  {
   "cell_type": "code",
   "execution_count": null,
   "id": "4670290f",
   "metadata": {},
   "outputs": [],
   "source": [
    "board = chess.Board()"
   ]
  },
  {
   "cell_type": "code",
   "execution_count": null,
   "id": "91c20f18",
   "metadata": {
    "scrolled": true
   },
   "outputs": [],
   "source": [
    "games = []\n",
    "with open('F:\\\\chess\\\\ChessAI-master\\\\filtered_games.pgn', 'r') as f:\n",
    "    lines = []\n",
    "    for line in f:\n",
    "        if line == \"\\n\":\n",
    "            continue\n",
    "        lines.append(line.strip())\n",
    "        if len(lines) == 16:\n",
    "            games.append(lines)\n",
    "            lines = []\n"
   ]
  },
  {
   "cell_type": "code",
   "execution_count": null,
   "id": "667881f0",
   "metadata": {},
   "outputs": [],
   "source": [
    "import chess.pgn\n",
    "from io import StringIO\n",
    "\n",
    "game_pgn = StringIO(\"\\n\".join(games[0]))\n",
    "\n",
    "game = chess.pgn.read_game(game_pgn)\n",
    "print(game)"
   ]
  },
  {
   "cell_type": "markdown",
   "id": "2b001b8a",
   "metadata": {},
   "source": [
    "## decode fen"
   ]
  },
  {
   "cell_type": "code",
   "execution_count": null,
   "id": "2aff7b4b",
   "metadata": {},
   "outputs": [],
   "source": [
    "def parse_fen(fen_str):\n",
    "    \n",
    "    board, turn, castling, enp, halfmove, fullmove = fen_str.split(\" \")\n",
    "    for i in range(1, 9):\n",
    "        board = board.replace(str(i), '.' * i)\n",
    "    return board.replace(\"/\", \"\"), turn, castling, enp, halfmove, fullmove\n"
   ]
  },
  {
   "cell_type": "code",
   "execution_count": null,
   "id": "1bd33961",
   "metadata": {},
   "outputs": [],
   "source": [
    "import numpy as np\n",
    "\n",
    "def board_to_nums(board_str):\n",
    "    pieces = ['.', 'P', 'N', 'B', 'R', 'Q', 'K', 'p', 'n', 'b', 'r', 'q', 'k']\n",
    "    board_array = np.zeros(64)\n",
    "    for i, element in enumerate(board_str):\n",
    "        board_array[i] = pieces.index(element)\n",
    "    return board_array\n",
    "\n",
    "def castling_to_nums(castling_str):\n",
    "    cnums = np.zeros(4)\n",
    "    if castling_str == \"-\":\n",
    "        return cnums\n",
    "    else:\n",
    "        if \"K\" in castling_str:\n",
    "            cnums[0] = 1\n",
    "        if \"Q\" in castling_str:\n",
    "            cnums[1] = 1\n",
    "        if \"k\" in castling_str:\n",
    "            cnums[2] = 1\n",
    "        if \"q\" in castling_str:\n",
    "            cnums[3] = 1\n",
    "    return cnums"
   ]
  },
  {
   "cell_type": "code",
   "execution_count": null,
   "id": "3892a62f",
   "metadata": {},
   "outputs": [],
   "source": [
    "def create_row(game_state):\n",
    "    try:\n",
    "        comment = re.match(\"\\[%eval (.*)\\]\", game_state.comment).groups()[0]\n",
    "    except:\n",
    "        return None\n",
    "    board_fen = game_state.board().fen()\n",
    "    board, turn, castling, enp, halfmove, fullmove = parse_fen(board_fen)\n",
    "    return fullmove, board_to_nums(board), comment\n"
   ]
  },
  {
   "cell_type": "code",
   "execution_count": null,
   "id": "49adbe2c",
   "metadata": {},
   "outputs": [],
   "source": [
    "import re\n",
    "re.match(\"\\[%eval (.*)\\]\", game.end().comment).groups()[0]"
   ]
  },
  {
   "cell_type": "markdown",
   "id": "f07622c0",
   "metadata": {},
   "source": [
    "## Storing 3d board and evaluation "
   ]
  },
  {
   "cell_type": "code",
   "execution_count": null,
   "id": "76157a28",
   "metadata": {},
   "outputs": [],
   "source": [
    "def create_dataset3d(game):\n",
    "    data1 = []\n",
    "    data4d= []\n",
    "    state = game.end()\n",
    "    while True:\n",
    "        row = create_row(state)\n",
    "        if row is not None:\n",
    "            fullmove, board, comment = row\n",
    "            board3d = split_dims(board=chess.Board(game.end().board().fen()))\n",
    "            if comment[0] != \"#\":\n",
    "                data1.append(np.append(board, [comment]))\n",
    "                data4d.append(board3d)\n",
    "            if comment[0] == \"#\":\n",
    "                if comment[1] == \"-\":\n",
    "                    data1.append(np.append(board, [-(120 + int(comment[2:])) * 1]))\n",
    "                    data4d.append(board3d)\n",
    "                else:\n",
    "                    data1.append(np.append(board, [(120 - int(comment[1:])) * 1]))\n",
    "                    data4d.append(board3d)\n",
    "            if int(fullmove) == 1:\n",
    "                break\n",
    "        try:\n",
    "            state = state.parent\n",
    "        except:\n",
    "            break\n",
    "    return np.asarray(data1),data4d\n"
   ]
  },
  {
   "cell_type": "markdown",
   "id": "6b2a0217",
   "metadata": {},
   "source": [
    "## adding all 3d boards into array "
   ]
  },
  {
   "cell_type": "code",
   "execution_count": null,
   "id": "080c6d15",
   "metadata": {
    "scrolled": true
   },
   "outputs": [],
   "source": [
    "dataset4d = []\n",
    "dataset=[]\n",
    "from tqdm import tqdm\n",
    "\n",
    "for game in tqdm(games):\n",
    "    game_pgn = StringIO(\"\\n\".join(game))\n",
    "    try:\n",
    "        game = chess.pgn.read_game(game_pgn)\n",
    "        data1,data4d = create_dataset3d(game)\n",
    "        if len(data1.shape) == 2:\n",
    "            dataset4d.append(data4d)\n",
    "            dataset.append(data1)\n",
    "    except:\n",
    "        continue"
   ]
  },
  {
   "cell_type": "code",
   "execution_count": null,
   "id": "3c542d85",
   "metadata": {},
   "outputs": [],
   "source": [
    "array4dfinal=np.concatenate(dataset4d, axis=0)\n",
    "array4dfinal.shape"
   ]
  },
  {
   "cell_type": "code",
   "execution_count": null,
   "id": "2a088c40",
   "metadata": {},
   "outputs": [],
   "source": [
    "np.save('trainingdata15.npy', array4dfinal)"
   ]
  },
  {
   "cell_type": "code",
   "execution_count": null,
   "id": "49a867f2",
   "metadata": {},
   "outputs": [],
   "source": [
    "dataset = np.concatenate(dataset)"
   ]
  },
  {
   "cell_type": "code",
   "execution_count": null,
   "id": "cbc58fa4",
   "metadata": {},
   "outputs": [],
   "source": [
    "np.savetxt(\"preprocessed15.csv\", dataset, delimiter=\",\", fmt=\"%s\")"
   ]
  },
  {
   "cell_type": "code",
   "execution_count": null,
   "id": "0957c90f",
   "metadata": {},
   "outputs": [],
   "source": []
  }
 ],
 "metadata": {
  "kernelspec": {
   "display_name": "Python 3",
   "language": "python",
   "name": "python3"
  },
  "language_info": {
   "codemirror_mode": {
    "name": "ipython",
    "version": 3
   },
   "file_extension": ".py",
   "mimetype": "text/x-python",
   "name": "python",
   "nbconvert_exporter": "python",
   "pygments_lexer": "ipython3",
   "version": "3.8.8"
  }
 },
 "nbformat": 4,
 "nbformat_minor": 5
}
