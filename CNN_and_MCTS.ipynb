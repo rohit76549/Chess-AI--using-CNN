{
  "nbformat": 4,
  "nbformat_minor": 0,
  "metadata": {
    "accelerator": "GPU",
    "colab": {
      "name": "CNN and MCTS.ipynb",
      "provenance": [],
      "collapsed_sections": []
    },
    "kernelspec": {
      "display_name": "Python 3",
      "name": "python3"
    },
    "language_info": {
      "name": "python"
    }
  },
  "cells": [
    {
      "cell_type": "code",
      "metadata": {
        "id": "EjAKftXiSGgU"
      },
      "source": [
        "pip install python-chess==0.31."
      ],
      "execution_count": null,
      "outputs": []
    },
    {
      "cell_type": "code",
      "metadata": {
        "id": "0sv-qhEZTzbh"
      },
      "source": [
        "import chess\n",
        "import chess.engine\n",
        "import random\n",
        "import numpy\n",
        "import matplotlib.pyplot as plt"
      ],
      "execution_count": null,
      "outputs": []
    },
    {
      "cell_type": "code",
      "metadata": {
        "id": "LzE2mBuXT1eb"
      },
      "source": [
        "import tensorflow.keras.models as models\n",
        "import tensorflow.keras.layers as layers\n",
        "import tensorflow.keras.utils as utils\n",
        "import tensorflow.keras.optimizers as optimizers"
      ],
      "execution_count": null,
      "outputs": []
    },
    {
      "cell_type": "code",
      "metadata": {
        "id": "sHXApcSMOFp9"
      },
      "source": [
        ""
      ],
      "execution_count": null,
      "outputs": []
    },
    {
      "cell_type": "markdown",
      "metadata": {
        "id": "ehT_8Z0jOHUl"
      },
      "source": [
        "## **Extracting evaluation**"
      ]
    },
    {
      "cell_type": "code",
      "metadata": {
        "id": "lf87ALQXT4gX"
      },
      "source": [
        "import pandas as pd\n",
        "\n",
        "dataset = pd.read_csv(\"/content/preprocessed15.csv\", header=None)"
      ],
      "execution_count": null,
      "outputs": []
    },
    {
      "cell_type": "code",
      "metadata": {
        "id": "lxxiknqWYE1O"
      },
      "source": [
        "y = dataset[64].values\n",
        "y.shape"
      ],
      "execution_count": null,
      "outputs": []
    },
    {
      "cell_type": "markdown",
      "metadata": {
        "id": "f_IZRqxlOT9E"
      },
      "source": [
        "**Normalization**"
      ]
    },
    {
      "cell_type": "code",
      "metadata": {
        "id": "c6vFWhzvYOZx"
      },
      "source": [
        "normalizedy = (y-min(y))/(max(y)-min(y))\n",
        "normalizedy"
      ],
      "execution_count": null,
      "outputs": []
    },
    {
      "cell_type": "code",
      "metadata": {
        "id": "kedeDnPGYV17"
      },
      "source": [
        "plt.hist(y, bins=50)\n",
        "plt.gca().set(title='Frequency Histogram', ylabel='Frequency');"
      ],
      "execution_count": null,
      "outputs": []
    },
    {
      "cell_type": "code",
      "metadata": {
        "id": "fjrizhKkYdy-"
      },
      "source": [
        "plt.hist(normalizedy, bins=50)\n",
        "plt.gca().set(title='Frequency Histogram', ylabel='Frequency');"
      ],
      "execution_count": null,
      "outputs": []
    },
    {
      "cell_type": "markdown",
      "metadata": {
        "id": "S7SE7nJXOfr7"
      },
      "source": [
        "# **Importing training data**"
      ]
    },
    {
      "cell_type": "code",
      "metadata": {
        "id": "eeTtYKzmYq66"
      },
      "source": [
        "traindata = numpy.load('/content/trainingdata15.npy')\n",
        "print(traindata.shape)"
      ],
      "execution_count": null,
      "outputs": []
    },
    {
      "cell_type": "markdown",
      "metadata": {
        "id": "8BT4Sbc1OlBC"
      },
      "source": [
        "# **Building Model**"
      ]
    },
    {
      "cell_type": "code",
      "metadata": {
        "id": "7cjkkuGkZ3Ms"
      },
      "source": [
        "def build_model(conv_size, conv_depth):\n",
        "    board3d = layers.Input(shape=(14, 8, 8))\n",
        "    x = board3d\n",
        "    for _ in range(conv_depth):\n",
        "        x = layers.Conv2D(filters=conv_size, kernel_size=3, padding='same', activation='relu', data_format='channels_last')(x)\n",
        "    x = layers.Flatten()(x)\n",
        "    x = layers.Dense(16, 'relu')(x)\n",
        "    x = layers.Dense(1, 'sigmoid')(x)\n",
        "\n",
        "    return models.Model(inputs=board3d, outputs=x)"
      ],
      "execution_count": null,
      "outputs": []
    },
    {
      "cell_type": "code",
      "metadata": {
        "id": "Ej0S6YQ2Z7T5"
      },
      "source": [
        "model = build_model(16, 1)"
      ],
      "execution_count": null,
      "outputs": []
    },
    {
      "cell_type": "code",
      "metadata": {
        "id": "5qRJTNYyaAqY"
      },
      "source": [
        "import tensorflow.keras.callbacks as callbacks"
      ],
      "execution_count": null,
      "outputs": []
    },
    {
      "cell_type": "code",
      "metadata": {
        "id": "1LT1JbnYaDrk"
      },
      "source": [
        "model.compile(optimizer=optimizers.Adam(5e-4), loss='mean_squared_error')\n",
        "model.summary()\n",
        "model.fit(traindata,normalizedy,\n",
        "          batch_size=1024,\n",
        "          epochs=1000,\n",
        "          verbose=1,\n",
        "          validation_split=0.1,\n",
        "          callbacks=[callbacks.ReduceLROnPlateau(monitor='loss', patience=10),\n",
        "                     callbacks.EarlyStopping(monitor='loss', patience=15, min_delta=1e-4)])"
      ],
      "execution_count": null,
      "outputs": []
    },
    {
      "cell_type": "code",
      "metadata": {
        "id": "bwVPZiFWaqKt"
      },
      "source": [
        "model.save('model19.h5')"
      ],
      "execution_count": null,
      "outputs": []
    },
    {
      "cell_type": "markdown",
      "metadata": {
        "id": "lxCpQ62VOxAU"
      },
      "source": [
        " **3d Matrix**"
      ]
    },
    {
      "cell_type": "code",
      "metadata": {
        "id": "LhkTeDvGa5ge"
      },
      "source": [
        "squares_index = {\n",
        "  'a': 0,\n",
        "  'b': 1,\n",
        "  'c': 2,\n",
        "  'd': 3,\n",
        "  'e': 4,\n",
        "  'f': 5,\n",
        "  'g': 6,\n",
        "  'h': 7\n",
        "}\n",
        "\n",
        "def square_to_index(square):\n",
        "    letter = chess.square_name(square)\n",
        "    return 8 - int(letter[1]), squares_index[letter[0]]\n",
        "\n",
        "\n",
        "def split_dims(board):\n",
        "  board3d = numpy.zeros((14, 8, 8), dtype=numpy.int8)\n",
        "  for piece in chess.PIECE_TYPES:\n",
        "    for square in board.pieces(piece, chess.WHITE):\n",
        "      idx = numpy.unravel_index(square, (8, 8))\n",
        "      board3d[piece - 1][7 - idx[0]][idx[1]] = 1\n",
        "    for square in board.pieces(piece, chess.BLACK):\n",
        "      idx = numpy.unravel_index(square, (8, 8))\n",
        "      board3d[piece + 5][7 - idx[0]][idx[1]] = 1\n",
        "\n",
        "\n",
        "  aux = board.turn\n",
        "  board.turn = chess.WHITE\n",
        "  for move in board.legal_moves:\n",
        "      i, j = square_to_index(move.to_square)\n",
        "      board3d[12][i][j] = 1\n",
        "  board.turn = chess.BLACK\n",
        "  for move in board.legal_moves:\n",
        "      i, j = square_to_index(move.to_square)\n",
        "      board3d[13][i][j] = 1\n",
        "  board.turn = aux\n",
        "\n",
        "  return board3d"
      ],
      "execution_count": null,
      "outputs": []
    },
    {
      "cell_type": "code",
      "metadata": {
        "id": "pmSrBTh8bF1l"
      },
      "source": [
        "!pip install keras\n",
        "from keras.models import load_model\n",
        "\n"
      ],
      "execution_count": null,
      "outputs": []
    },
    {
      "cell_type": "code",
      "metadata": {
        "id": "u82RRN8Ak7iO"
      },
      "source": [
        "model = load_model('model18.h5')"
      ],
      "execution_count": null,
      "outputs": []
    },
    {
      "cell_type": "code",
      "metadata": {
        "id": "wOuFL9fqbkzM"
      },
      "source": [
        "def eval(board):\n",
        "    board3d = split_dims(board)\n",
        "    board3d = numpy.expand_dims(board3d, 0)\n",
        "    return model.predict(board3d)[0][0]"
      ],
      "execution_count": null,
      "outputs": []
    },
    {
      "cell_type": "markdown",
      "metadata": {
        "id": "SiRXmXxLPhsJ"
      },
      "source": [
        "# **Monte Carlo Tree Search**"
      ]
    },
    {
      "cell_type": "code",
      "metadata": {
        "id": "esg3Y2pqbJ-8"
      },
      "source": [
        "class Node:\n",
        "    \n",
        "    def __init__(self, state, move=None, parent=None):\n",
        "        self.move = move\n",
        "        self.state = state\n",
        "        self.parent = parent\n",
        "        self.unexplored_moves = list(self.state.legal_moves)\n",
        "        self.children = []\n",
        "        self.visits = 0\n",
        "        self.wins = 0\n",
        "        \n",
        "    def add_child(self, state, move):\n",
        "        child_node = Node(state, move, self)\n",
        "        self.children.append(child_node)\n",
        "        self.unexplored_moves.remove(move)\n",
        "        return child_node\n",
        "        \n",
        "    def UCT_select_child(self):\n",
        "        s = sorted(self.children, key = lambda c: c.wins/c.visits + sqrt(2*log(self.visits)/c.visits))[-1]\n",
        "        return s\n",
        "    \n",
        "    def Update(self, result):\n",
        "        self.visits += 1\n",
        "        self.wins += result"
      ],
      "execution_count": null,
      "outputs": []
    },
    {
      "cell_type": "code",
      "metadata": {
        "id": "FKq8_y7SbMhj"
      },
      "source": [
        "import random\n",
        "from math import sqrt, log\n",
        "def UCT(rootstate, itermax, depthmax):\n",
        "    rootnode = Node(state = rootstate)\n",
        "    for i in range(itermax):\n",
        "        node = rootnode\n",
        "        depth = 0\n",
        "        state = rootstate.copy()\n",
        "\n",
        "        # Select\n",
        "        while node.unexplored_moves == [] and node.children != []: # node is fully expanded and non-terminal\n",
        "            node = node.UCT_select_child()\n",
        "            state.push(node.move)\n",
        "\n",
        "        # Expand\n",
        "        if node.unexplored_moves != []:\n",
        "            m = random.choice(node.unexplored_moves) \n",
        "            state.push(m)\n",
        "            node = node.add_child(state,m) \n",
        "            depth += 1\n",
        "\n",
        "        # Rollout \n",
        "       # while list(state.legal_moves) != [] and depth < depthmax: \n",
        "        #    state.push(random.choice(list(state.legal_moves)))\n",
        "         #   depth += 1\n",
        "\n",
        "        # Backpropagate\n",
        "        while node != None: \n",
        "            result = eval(state)\n",
        "            \n",
        "            node.Update(result) \n",
        "            node = node.parent\n",
        "\n",
        "    return sorted(rootnode.children, key = lambda c: c.visits)[-1].move"
      ],
      "execution_count": null,
      "outputs": []
    },
    {
      "cell_type": "code",
      "metadata": {
        "id": "0Qy_9oL7bPcD"
      },
      "source": [
        "import time\n",
        "from IPython.display import clear_output, display\n",
        "import chess.pgn\n",
        "\n",
        "board = chess.Board()\n",
        "\n",
        "def play_game(player1, player2):\n",
        "    while not board.is_game_over():\n",
        "        if board.turn == chess.WHITE:\n",
        "            player1(board)\n",
        "        else:\n",
        "            player2(board)\n",
        "        clear_output(wait=True)\n",
        "        display(board)\n",
        "        time.sleep(0.1)\n",
        "    game = chess.pgn.Game.from_board(board)\n",
        "    print(game)"
      ],
      "execution_count": null,
      "outputs": []
    },
    {
      "cell_type": "code",
      "metadata": {
        "id": "_gd0LAtvbSIv"
      },
      "source": [
        "import random\n",
        "\n",
        "board = chess.Board()\n",
        "\n",
        "def mcts_player(board):\n",
        "    move = None\n",
        "    for move_choice in board.legal_moves:\n",
        "        copy = board.copy()\n",
        "        copy.push(move_choice)\n",
        "        if copy.is_game_over():\n",
        "            move = move_choice\n",
        "            board.push(move)\n",
        "            return\n",
        "    if random.random() < 0.0001:\n",
        "        move = random.choice(list(board.legal_moves))\n",
        "    else:\n",
        "        move = UCT(board, 10, 10)\n",
        "    board.push(move)"
      ],
      "execution_count": null,
      "outputs": []
    },
    {
      "cell_type": "code",
      "metadata": {
        "id": "F5stcjTmbUhz"
      },
      "source": [
        "def human_player(board):\n",
        "    while True:\n",
        "        move = input(\"Input Your Move:\")\n",
        "        if move == \"q\":\n",
        "            raise KeyboardInterrupt\n",
        "        try:\n",
        "            board.push_san(move)\n",
        "            break \n",
        "        except Exception as e:\n",
        "            print(e)"
      ],
      "execution_count": null,
      "outputs": []
    },
    {
      "cell_type": "code",
      "metadata": {
        "id": "cs1VETB2bW3t"
      },
      "source": [
        "play_game(mcts_player, mcts_player)"
      ],
      "execution_count": null,
      "outputs": []
    }
  ]
}